{
  "cells": [
    {
      "cell_type": "code",
      "execution_count": 2,
      "metadata": {
        "id": "E-mNhUjQuxNM"
      },
      "outputs": [],
      "source": [
        "import torch\n",
        "import triton\n",
        "import triton.language as tl\n",
        "import time"
      ]
    },
    {
      "cell_type": "code",
      "source": [
        "!pip install triton"
      ],
      "metadata": {
        "colab": {
          "base_uri": "https://localhost:8080/"
        },
        "id": "-HM01nPBAm66",
        "outputId": "4f3909a4-ebe5-49e2-d004-f2941d28ebe0"
      },
      "execution_count": 3,
      "outputs": [
        {
          "output_type": "stream",
          "name": "stdout",
          "text": [
            "Requirement already satisfied: triton in /usr/local/lib/python3.11/dist-packages (3.1.0)\n",
            "Requirement already satisfied: filelock in /usr/local/lib/python3.11/dist-packages (from triton) (3.17.0)\n"
          ]
        }
      ]
    },
    {
      "cell_type": "code",
      "source": [
        "!nvidia-smi"
      ],
      "metadata": {
        "colab": {
          "base_uri": "https://localhost:8080/"
        },
        "id": "-LR0nCscA9zF",
        "outputId": "021134cc-5509-4622-f7e7-0f3d5583b75d"
      },
      "execution_count": 4,
      "outputs": [
        {
          "output_type": "stream",
          "name": "stdout",
          "text": [
            "Thu Mar  6 19:59:11 2025       \n",
            "+-----------------------------------------------------------------------------------------+\n",
            "| NVIDIA-SMI 550.54.15              Driver Version: 550.54.15      CUDA Version: 12.4     |\n",
            "|-----------------------------------------+------------------------+----------------------+\n",
            "| GPU  Name                 Persistence-M | Bus-Id          Disp.A | Volatile Uncorr. ECC |\n",
            "| Fan  Temp   Perf          Pwr:Usage/Cap |           Memory-Usage | GPU-Util  Compute M. |\n",
            "|                                         |                        |               MIG M. |\n",
            "|=========================================+========================+======================|\n",
            "|   0  Tesla T4                       Off |   00000000:00:04.0 Off |                    0 |\n",
            "| N/A   37C    P8             10W /   70W |       0MiB /  15360MiB |      0%      Default |\n",
            "|                                         |                        |                  N/A |\n",
            "+-----------------------------------------+------------------------+----------------------+\n",
            "                                                                                         \n",
            "+-----------------------------------------------------------------------------------------+\n",
            "| Processes:                                                                              |\n",
            "|  GPU   GI   CI        PID   Type   Process name                              GPU Memory |\n",
            "|        ID   ID                                                               Usage      |\n",
            "|=========================================================================================|\n",
            "|  No running processes found                                                             |\n",
            "+-----------------------------------------------------------------------------------------+\n"
          ]
        }
      ]
    },
    {
      "cell_type": "code",
      "execution_count": 5,
      "metadata": {
        "id": "N9lmLw8cuxNN"
      },
      "outputs": [],
      "source": [
        "def is_cuda():\n",
        "    return triton.runtime.driver.active.get_current_target().backend == \"cuda\""
      ]
    },
    {
      "cell_type": "code",
      "execution_count": 6,
      "metadata": {
        "id": "eUMlpjFJuxNO"
      },
      "outputs": [],
      "source": [
        "def is_hip_mi200():\n",
        "    target = triton.runtime.driver.active.get_current_target()\n",
        "    return target.backend == 'hip' and target.arch == 'gfx90a'"
      ]
    },
    {
      "cell_type": "code",
      "execution_count": 7,
      "metadata": {
        "id": "lBNGYaejuxNO"
      },
      "outputs": [],
      "source": [
        "\"\"\"\n",
        "PA2 Part 1: MatMul+Relu+Add Fused Optimization.\n",
        "The kernel uses several optimization techniques:\n",
        "\n",
        "  1. Shared memory tiling.\n",
        "  2. Register tiling.\n",
        "  3. Cooperative fetching.\n",
        "  4. Operator Fusion\n",
        "  5. Write cache / epilogue fusion.\n",
        "\n",
        "Fill in the missing parts (marked with TODO).\n",
        "\"\"\"\n",
        "\n",
        "# -----------------------------------------------------------------------------\n",
        "# Tiling parameters - You will need to change these to achieve better results.\n",
        "# -----------------------------------------------------------------------------\n",
        "BLOCK_M = 128  # Tile size in the M dimension.\n",
        "BLOCK_N = 256 # Tile size in the N dimension.\n",
        "BLOCK_K = 16 # Tile size in the K dimension.\n",
        "\n",
        "\n",
        "# -----------------------------------------------------------------------------\n",
        "# Triton Kernel: Matrix Multiplication + ReLU + Add\n",
        "#\n",
        "# The kernel uses:\n",
        "#   Step 1: Tile assignment (each kernel computes a tile of C)\n",
        "#   Step 2: Shared memory tiling + Cooperative Fetching: Load tiles of A and B.\n",
        "#   Step 3: Register tiling: Use a register accumulator.\n",
        "#   Step 4: Add and ReLU fusion\n",
        "#   Step 5: Write cache/Epilogue: Write the final tile back to global memory.\n",
        "# -----------------------------------------------------------------------------\n",
        "@triton.jit\n",
        "def matmul_add_relu_kernel_fp16(\n",
        "    a_ptr, b_ptr, c_ptr, d_ptr,\n",
        "    M: tl.constexpr, N: tl.constexpr, K: tl.constexpr,\n",
        "    stride_am: tl.constexpr, stride_ak: tl.constexpr,\n",
        "    stride_bk: tl.constexpr, stride_bn: tl.constexpr,\n",
        "    stride_cm: tl.constexpr, stride_cn: tl.constexpr,\n",
        "    stride_dm: tl.constexpr, stride_dn: tl.constexpr,\n",
        "    BLOCK_M: tl.constexpr, BLOCK_N: tl.constexpr, BLOCK_K: tl.constexpr,\n",
        "):\n",
        "    # -------------------------------------------------------------------------\n",
        "    # Step 1: Tile: Assignment\n",
        "    #\n",
        "    # Each kernel instance is mapped to a tile in the output matrix C.\n",
        "    # Compute the starting indices (m_start, n_start) for this tile.\n",
        "    # -------------------------------------------------------------------------\n",
        "    # TODO: Compute the tile indices using program_id(0) for M and program_id(1) for N.\n",
        "    m_start = tl.program_id(0) * BLOCK_M\n",
        "    n_start = tl.program_id(1) * BLOCK_N\n",
        "\n",
        "    m_indices = tl.arange(0, BLOCK_M)\n",
        "    n_indices = tl.arange(0, BLOCK_N)\n",
        "    k_indices = tl.arange(0, BLOCK_K)\n",
        "\n",
        "    m_offsets = m_indices + m_start\n",
        "    n_offsets = n_indices + n_start\n",
        "\n",
        "    # -------------------------------------------------------------------------\n",
        "    # Step 2: Register Tiling\n",
        "    # -------------------------------------------------------------------------\n",
        "    # TODO: Initialize the accumulator \"acc\" with zeros (dtype: float16).\n",
        "    acc = tl.full([BLOCK_M, BLOCK_N], 0, dtype=tl.float16)\n",
        "\n",
        "    # -------------------------------------------------------------------------\n",
        "    # Step 3: Shared Memory Tiling & Cooperative Fetching.\n",
        "    # Compute pointers to the sub-tiles of A and B that are needed to compute\n",
        "    # the current C tile. The offsets here serve to load BLOCK_SIZE_M x BLOCK_SIZE_K\n",
        "    # and BLOCK_SIZE_K x BLOCK_SIZE_N blocks from A and B respectively.\n",
        "    # -------------------------------------------------------------------------\n",
        "    # TODO: Finish code below\n",
        "\n",
        "    mask_out = (m_offsets[:, None] < M) & (n_offsets[None, :] < N)\n",
        "\n",
        "    for k in range(0, K // BLOCK_K):\n",
        "        k_offsets = k_indices + k * BLOCK_K\n",
        "        mask_a = (m_offsets[:, None] < M) & (k_offsets[None, :] < K)\n",
        "        mask_b = (k_offsets[:, None] < K) & (n_offsets[None, :] < N)\n",
        "\n",
        "        a_ptrs = a_ptr + (m_offsets[:, None] * stride_am + k_offsets * stride_ak)\n",
        "        b_ptrs = b_ptr + (k_offsets[:, None] * stride_bk + n_offsets * stride_bn)\n",
        "\n",
        "        A_tile = tl.load(a_ptrs, mask = mask_a)\n",
        "        B_tile = tl.load(b_ptrs, mask = mask_b)\n",
        "\n",
        "        acc += tl.dot(A_tile, B_tile, out_dtype=tl.float16)\n",
        "\n",
        "\n",
        "    # -------------------------------------------------------------------------\n",
        "    # Step 4: Apply ReLU and Add C to the accumulator\n",
        "    # -------------------------------------------------------------------------\n",
        "    # TODO: Finish code below\n",
        "    ...\n",
        "    c_ptrs = c_ptr + (m_offsets[:, None] * stride_cm + n_offsets * stride_cn)\n",
        "    C = tl.load(c_ptrs, mask = mask_out)\n",
        "    acc += C\n",
        "    acc = tl.maximum(0, acc)\n",
        "\n",
        "    # -------------------------------------------------------------------------\n",
        "    # Step 5: Write Cache / Epilogue Fusion: Write the computed tile to D.\n",
        "    # -------------------------------------------------------------------------\n",
        "    # TODO: Finish code below\n",
        "    ...\n",
        "\n",
        "    d_ptrs = d_ptr + (m_offsets[:, None] * stride_dm + n_offsets * stride_dn)\n",
        "    tl.store(d_ptrs, acc, mask = mask_out)"
      ]
    },
    {
      "cell_type": "code",
      "execution_count": 8,
      "metadata": {
        "id": "u16sz-IUuxNP"
      },
      "outputs": [],
      "source": [
        "def matmul_add_relu_fp16(a: torch.Tensor, b: torch.Tensor, c: torch.Tensor) -> torch.Tensor:\n",
        "    \"\"\"\n",
        "    Computes Output = ReLU(A @ B + C) using fp16 precision for maximum throughput.\n",
        "    \"\"\"\n",
        "    M, K = a.shape\n",
        "    K2, N = b.shape\n",
        "    assert K == K2, \"Incompatible dimensions\"\n",
        "\n",
        "    d = torch.empty((M, N), device=a.device, dtype=torch.float16)\n",
        "    # Create launch grid\n",
        "    grid = (triton.cdiv(M, BLOCK_M), triton.cdiv(N, BLOCK_N))\n",
        "\n",
        "    matmul_add_relu_kernel_fp16[grid](\n",
        "        a, b, c, d,\n",
        "        M, N, K,\n",
        "        a.stride(0), a.stride(1),\n",
        "        b.stride(0), b.stride(1),\n",
        "        c.stride(0), c.stride(1),\n",
        "        d.stride(0), d.stride(1),\n",
        "        BLOCK_M=BLOCK_M, BLOCK_N=BLOCK_N, BLOCK_K=BLOCK_K\n",
        "    )\n",
        "    return d"
      ]
    },
    {
      "cell_type": "code",
      "execution_count": 9,
      "metadata": {
        "id": "AJ7LlTPawPqB"
      },
      "outputs": [],
      "source": [
        "# Reference implementation using PyTorch\n",
        "def reference_matmul_add_relu(A, B, C):\n",
        "    result = torch.matmul(A, B).add(C).relu_()\n",
        "    return result"
      ]
    },
    {
      "cell_type": "code",
      "execution_count": 10,
      "metadata": {
        "colab": {
          "base_uri": "https://localhost:8080/"
        },
        "id": "B4J5ZBpOuxNP",
        "outputId": "0de07274-7f12-4b57-c75b-5762b62fabe0"
      },
      "outputs": [
        {
          "output_type": "stream",
          "name": "stdout",
          "text": [
            "triton_output_with_fp16_inputs=tensor([[ 0.0000,  6.1250,  0.0000,  ..., 10.0625,  0.0000,  0.0000],\n",
            "        [ 7.9102, 15.6328, 26.6094,  ..., 11.4609,  5.3750, 18.6250],\n",
            "        [ 2.7246,  0.0000,  0.0000,  ...,  0.0000, 26.0781,  0.0000],\n",
            "        ...,\n",
            "        [ 0.4448, 75.1875,  0.0000,  ..., 26.2812,  0.0000,  0.0000],\n",
            "        [ 6.9492,  1.1230,  0.0000,  ...,  0.0000,  0.0000,  0.0000],\n",
            "        [27.6094, 26.9531, 22.9219,  ..., 13.5391,  6.0508, 21.6250]],\n",
            "       device='cuda:0', dtype=torch.float16)\n",
            "torch_output_with_fp16_inputs=tensor([[ 0.0000,  6.1289,  0.0000,  ..., 10.0391,  0.0000,  0.0000],\n",
            "        [ 7.9102, 15.6328, 26.6250,  ..., 11.4531,  5.3945, 18.6562],\n",
            "        [ 2.7266,  0.0000,  0.0000,  ...,  0.0000, 26.1250,  0.0000],\n",
            "        ...,\n",
            "        [ 0.4316, 75.2500,  0.0000,  ..., 26.2812,  0.0000,  0.0000],\n",
            "        [ 6.9570,  1.1260,  0.0000,  ...,  0.0000,  0.0000,  0.0000],\n",
            "        [27.6406, 26.9531, 22.9375,  ..., 13.5625,  6.0391, 21.6406]],\n",
            "       device='cuda:0', dtype=torch.float16)\n",
            "✅ Triton and Torch match\n"
          ]
        }
      ],
      "source": [
        "# -----------------------------------------------------------------------------\n",
        "# Accuracy Tests\n",
        "# -----------------------------------------------------------------------------\n",
        "if __name__ == \"__main__\":\n",
        "    torch.manual_seed(0)\n",
        "    a = torch.randn((512, 512), device=torch.device(\"cuda\"), dtype=torch.float16)\n",
        "    b = torch.randn((512, 512), device=torch.device(\"cuda\"), dtype=torch.float16)\n",
        "    c = torch.randn((512, 512), device=torch.device(\"cuda\"), dtype=torch.float16)\n",
        "    triton_output = matmul_add_relu_fp16(a, b, c)\n",
        "    torch_output = reference_matmul_add_relu(a, b, c)\n",
        "    print(f\"triton_output_with_fp16_inputs={triton_output}\")\n",
        "    print(f\"torch_output_with_fp16_inputs={torch_output}\")\n",
        "    rtol = 1e-2 if is_hip_mi200() else 0.032\n",
        "    if torch.allclose(triton_output, torch_output, atol=0.15, rtol=rtol):\n",
        "        print(\"✅ Triton and Torch match\")\n",
        "    else:\n",
        "        diff = triton_output - torch_output\n",
        "        abs_diff = torch.abs(diff)\n",
        "        max_abs_diff = torch.max(abs_diff)\n",
        "        print(f\"❌ Triton and Torch differ: {max_abs_diff=}\")"
      ]
    },
    {
      "cell_type": "code",
      "execution_count": 22,
      "metadata": {
        "id": "kj_dGOlazQJY",
        "colab": {
          "base_uri": "https://localhost:8080/"
        },
        "outputId": "97fdf345-45c3-466c-99ad-694198d595eb"
      },
      "outputs": [
        {
          "output_type": "stream",
          "name": "stdout",
          "text": [
            "Triton implementation\n",
            "PyTorch implementation\n",
            "Performance comparison for matrix multiplication (2048x2048 @ 2048x2048):\n",
            "Triton implementation: 0.75 ms\n",
            "PyTorch implementation: 1.07 ms\n",
            "\n",
            "Speedup of Triton vs PyTorch: 1.43x\n"
          ]
        }
      ],
      "source": [
        "# -----------------------------------------------------------------------------\n",
        "# Performance Benchmark\n",
        "# IMPORTANT: DO NOT CHANGE THIS CODE.\n",
        "# THIS IS THE EXACT CODE THAT WILL BE USED TO GRADE YOUR IMPLEMENTATION.\n",
        "# ANY CHANGES TO THIS CODE (INCLUDING DIMENSIONS, REPEATS, etc.)\n",
        "# WILL CAUSE YOU TO HAVE DIFFERENT SPEEDUP RESULTS.\n",
        "# -----------------------------------------------------------------------------\n",
        "M = 2048\n",
        "K = 2048\n",
        "N = 2048\n",
        "\n",
        "# KEEP THESE MATRICES IN FP16. FP32 WILL NOT PROVIDE ACCURATE RESULTS\n",
        "A = torch.randn((M, K), device=\"cuda\", dtype=torch.float16)\n",
        "B = torch.randn((K, N), device=\"cuda\", dtype=torch.float16)\n",
        "C = torch.randn((M, N), device=\"cuda\", dtype=torch.float16)\n",
        "\n",
        "# warmup\n",
        "_ = matmul_add_relu_fp16(A, B, C)\n",
        "_ = reference_matmul_add_relu(A, B, C)\n",
        "\n",
        "REPEATS = 5000\n",
        "\n",
        "# time your implementation\n",
        "print(\"Triton implementation\")\n",
        "torch.cuda.synchronize()\n",
        "start = time.perf_counter()\n",
        "for _ in range(REPEATS):\n",
        "    _ = matmul_add_relu_fp16(A, B, C)\n",
        "torch.cuda.synchronize()\n",
        "triton_time = (time.perf_counter() - start) / REPEATS\n",
        "\n",
        "# time pytorch\n",
        "print(\"PyTorch implementation\")\n",
        "torch.cuda.synchronize()\n",
        "start = time.perf_counter()\n",
        "for _ in range(REPEATS):\n",
        "    _ = reference_matmul_add_relu(A, B, C)\n",
        "torch.cuda.synchronize()\n",
        "torch_time = (time.perf_counter() - start) / REPEATS\n",
        "\n",
        "print(f\"Performance comparison for matrix multiplication ({M}x{K} @ {K}x{N}):\")\n",
        "print(f\"Triton implementation: {triton_time*1000:.2f} ms\")\n",
        "print(f\"PyTorch implementation: {torch_time*1000:.2f} ms\")\n",
        "\n",
        "print(f\"\\nSpeedup of Triton vs PyTorch: {torch_time/triton_time:.2f}x\")"
      ]
    },
    {
      "cell_type": "code",
      "execution_count": 23,
      "metadata": {
        "id": "K9Hdpxic0tq6"
      },
      "outputs": [],
      "source": [
        "# Write your grid search here."
      ]
    },
    {
      "cell_type": "code",
      "source": [
        "BLOCK_M_ranges = [128, 256]\n",
        "BLOCK_N_ranges = [128, 256]\n",
        "BLOCK_K_ranges = [16, 32, 64]\n",
        "\n",
        "\n",
        "for bm in BLOCK_M_ranges:\n",
        "    for bn in BLOCK_N_ranges:\n",
        "        for bk in BLOCK_K_ranges:\n",
        "\n",
        "          BLOCK_K = bk\n",
        "          BLOCK_M = bm\n",
        "          BLOCK_N = bn\n",
        "\n",
        "          print(f\"BLOCK_M = {BLOCK_M}, BLOCK_N = {BLOCK_N}, BLOCK_K = {BLOCK_K}\")\n",
        "\n",
        "          print(\"Triton implementation\")\n",
        "          torch.cuda.synchronize()\n",
        "          start = time.perf_counter()\n",
        "          for _ in range(REPEATS):\n",
        "              _ = matmul_add_relu_fp16(A, B, C)\n",
        "          torch.cuda.synchronize()\n",
        "          triton_time = (time.perf_counter() - start) / REPEATS\n",
        "\n",
        "          # time pytorch\n",
        "          print(\"PyTorch implementation\")\n",
        "          torch.cuda.synchronize()\n",
        "          start = time.perf_counter()\n",
        "          for _ in range(REPEATS):\n",
        "              _ = reference_matmul_add_relu(A, B, C)\n",
        "          torch.cuda.synchronize()\n",
        "          torch_time = (time.perf_counter() - start) / REPEATS\n",
        "\n",
        "          print(f\"Performance comparison for matrix multiplication ({M}x{K} @ {K}x{N}):\")\n",
        "          print(f\"Triton implementation: {triton_time*1000:.2f} ms\")\n",
        "          print(f\"PyTorch implementation: {torch_time*1000:.2f} ms\")\n",
        "          print(f\"\\nSpeedup of Triton vs PyTorch: {torch_time/triton_time:.2f}x\")\n"
      ],
      "metadata": {
        "id": "if3_fmLjUA4B",
        "colab": {
          "base_uri": "https://localhost:8080/"
        },
        "outputId": "a0507001-3ce8-40f5-928c-64d774f7e791"
      },
      "execution_count": 24,
      "outputs": [
        {
          "output_type": "stream",
          "name": "stdout",
          "text": [
            "BLOCK_M = 128, BLOCK_N = 128, BLOCK_K = 16\n",
            "Triton implementation\n",
            "PyTorch implementation\n",
            "Performance comparison for matrix multiplication (2048x2048 @ 2048x2048):\n",
            "Triton implementation: 1.04 ms\n",
            "PyTorch implementation: 1.09 ms\n",
            "\n",
            "Speedup of Triton vs PyTorch: 1.05x\n",
            "BLOCK_M = 128, BLOCK_N = 128, BLOCK_K = 32\n",
            "Triton implementation\n",
            "PyTorch implementation\n",
            "Performance comparison for matrix multiplication (2048x2048 @ 2048x2048):\n",
            "Triton implementation: 1.14 ms\n",
            "PyTorch implementation: 1.06 ms\n",
            "\n",
            "Speedup of Triton vs PyTorch: 0.93x\n",
            "BLOCK_M = 128, BLOCK_N = 128, BLOCK_K = 64\n",
            "Triton implementation\n",
            "PyTorch implementation\n",
            "Performance comparison for matrix multiplication (2048x2048 @ 2048x2048):\n",
            "Triton implementation: 1.01 ms\n",
            "PyTorch implementation: 1.05 ms\n",
            "\n",
            "Speedup of Triton vs PyTorch: 1.04x\n",
            "BLOCK_M = 128, BLOCK_N = 256, BLOCK_K = 16\n",
            "Triton implementation\n",
            "PyTorch implementation\n",
            "Performance comparison for matrix multiplication (2048x2048 @ 2048x2048):\n",
            "Triton implementation: 0.74 ms\n",
            "PyTorch implementation: 1.03 ms\n",
            "\n",
            "Speedup of Triton vs PyTorch: 1.40x\n",
            "BLOCK_M = 128, BLOCK_N = 256, BLOCK_K = 32\n",
            "Triton implementation\n",
            "PyTorch implementation\n",
            "Performance comparison for matrix multiplication (2048x2048 @ 2048x2048):\n",
            "Triton implementation: 1.02 ms\n",
            "PyTorch implementation: 1.02 ms\n",
            "\n",
            "Speedup of Triton vs PyTorch: 1.01x\n",
            "BLOCK_M = 128, BLOCK_N = 256, BLOCK_K = 64\n",
            "Triton implementation\n",
            "PyTorch implementation\n",
            "Performance comparison for matrix multiplication (2048x2048 @ 2048x2048):\n",
            "Triton implementation: 1.23 ms\n",
            "PyTorch implementation: 1.02 ms\n",
            "\n",
            "Speedup of Triton vs PyTorch: 0.83x\n",
            "BLOCK_M = 256, BLOCK_N = 128, BLOCK_K = 16\n",
            "Triton implementation\n",
            "PyTorch implementation\n",
            "Performance comparison for matrix multiplication (2048x2048 @ 2048x2048):\n",
            "Triton implementation: 1.07 ms\n",
            "PyTorch implementation: 1.03 ms\n",
            "\n",
            "Speedup of Triton vs PyTorch: 0.96x\n",
            "BLOCK_M = 256, BLOCK_N = 128, BLOCK_K = 32\n",
            "Triton implementation\n",
            "PyTorch implementation\n",
            "Performance comparison for matrix multiplication (2048x2048 @ 2048x2048):\n",
            "Triton implementation: 1.09 ms\n",
            "PyTorch implementation: 1.04 ms\n",
            "\n",
            "Speedup of Triton vs PyTorch: 0.95x\n",
            "BLOCK_M = 256, BLOCK_N = 128, BLOCK_K = 64\n",
            "Triton implementation\n",
            "PyTorch implementation\n",
            "Performance comparison for matrix multiplication (2048x2048 @ 2048x2048):\n",
            "Triton implementation: 1.31 ms\n",
            "PyTorch implementation: 1.05 ms\n",
            "\n",
            "Speedup of Triton vs PyTorch: 0.80x\n",
            "BLOCK_M = 256, BLOCK_N = 256, BLOCK_K = 16\n",
            "Triton implementation\n",
            "PyTorch implementation\n",
            "Performance comparison for matrix multiplication (2048x2048 @ 2048x2048):\n",
            "Triton implementation: 2.32 ms\n",
            "PyTorch implementation: 1.05 ms\n",
            "\n",
            "Speedup of Triton vs PyTorch: 0.45x\n",
            "BLOCK_M = 256, BLOCK_N = 256, BLOCK_K = 32\n",
            "Triton implementation\n",
            "PyTorch implementation\n",
            "Performance comparison for matrix multiplication (2048x2048 @ 2048x2048):\n",
            "Triton implementation: 5.05 ms\n",
            "PyTorch implementation: 1.05 ms\n",
            "\n",
            "Speedup of Triton vs PyTorch: 0.21x\n",
            "BLOCK_M = 256, BLOCK_N = 256, BLOCK_K = 64\n",
            "Triton implementation\n",
            "PyTorch implementation\n",
            "Performance comparison for matrix multiplication (2048x2048 @ 2048x2048):\n",
            "Triton implementation: 20.96 ms\n",
            "PyTorch implementation: 1.04 ms\n",
            "\n",
            "Speedup of Triton vs PyTorch: 0.05x\n"
          ]
        }
      ]
    },
    {
      "cell_type": "code",
      "source": [],
      "metadata": {
        "id": "PMyuMH5l_UNe"
      },
      "execution_count": 24,
      "outputs": []
    }
  ],
  "metadata": {
    "accelerator": "GPU",
    "colab": {
      "gpuType": "T4",
      "provenance": []
    },
    "kernelspec": {
      "display_name": "Python 3",
      "name": "python3"
    },
    "language_info": {
      "name": "python",
      "version": "3.10.0"
    }
  },
  "nbformat": 4,
  "nbformat_minor": 0
}